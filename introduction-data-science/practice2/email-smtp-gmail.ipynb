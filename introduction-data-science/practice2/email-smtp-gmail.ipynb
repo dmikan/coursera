{
 "cells": [
  {
   "cell_type": "code",
   "execution_count": 38,
   "id": "16010a96-1529-48a4-ac5c-0a3cb606a43d",
   "metadata": {},
   "outputs": [],
   "source": [
    "import smtplib \n",
    "import pandas as pd \n",
    "from email.mime.multipart import MIMEMultipart \n",
    "from email.mime.text import MIMEText\n",
    "\n",
    "\n",
    "def set_email_header(message, email_config, email_to):\n",
    "    message['From'] = email_config['From']\n",
    "    message['Bcc'] = email_config['Bcc']\n",
    "    message['Subject'] = email_config['Subject']\n",
    "    message['To'] = email_to\n",
    "    \n",
    "def read_auth_tokens(fname):\n",
    "    fauth = open(fname, 'r')\n",
    "    user, password = fauth.readlines()\n",
    "    fauth.close()\n",
    "    return user.strip(), password.strip()\n",
    "\n",
    "def getEmailContent(row,headers):\n",
    "    #create the body of the email \n",
    "    text = \"\"\"\n",
    "    <head>\n",
    "     <style>\n",
    "    table {\n",
    "        margin-left: auto;\n",
    "        margin-right: auto;\n",
    "    }\n",
    "    </style>\n",
    "    <style>\n",
    "    table, th, td {\n",
    "        border: 1px solid black;\n",
    "    }\n",
    "    </style>\n",
    "    </head>\n",
    "    \"\"\"\n",
    "    text += f\"\"\"\n",
    "    Cordial saludo, <strong>{row[2]} {row[3]}</strong>,<br>\n",
    "    Este es tu registro de asistencias y notas hasta la fecha:<br><br>\n",
    "    <table>\n",
    "    <tbody>\n",
    "    \"\"\"    \n",
    "    \n",
    "    #add header titles    \n",
    "    for index, label in enumerate(headers[5:]):\n",
    "        text += \"<tr style='text-align:center'>\"\n",
    "        text += f\"<th>{label}</th><td>{row[index+5]}</td>\"\n",
    "        text += \"</tr>\"\n",
    "        \n",
    "    text += \"</tbody>\"\n",
    "    text += \"</table>\"\n",
    "    text += \"\"\"\n",
    "    <br><br>\n",
    "    Si tiene alguna reclamación por favor <strong>responder a este mismo correo</strong>, especificar en cuál nota o asistencia, y <strong>adjuntar las evidencias</strong> que sustenten la reclamación. Muchas gracias por su atención. \n",
    "    \"\"\"\n",
    "    return text\n",
    "\n"
   ]
  },
  {
   "cell_type": "code",
   "execution_count": 1,
   "id": "e062cc6b-0e38-46c9-bbb9-fb1179585c03",
   "metadata": {},
   "outputs": [
    {
     "ename": "NameError",
     "evalue": "name 'pd' is not defined",
     "output_type": "error",
     "traceback": [
      "\u001b[0;31m---------------------------------------------------------------------------\u001b[0m",
      "\u001b[0;31mNameError\u001b[0m                                 Traceback (most recent call last)",
      "Cell \u001b[0;32mIn[1], line 6\u001b[0m\n\u001b[1;32m      1\u001b[0m EMAIL_CONFIG \u001b[38;5;241m=\u001b[39m {\u001b[38;5;124m'\u001b[39m\u001b[38;5;124mFrom\u001b[39m\u001b[38;5;124m'\u001b[39m:\u001b[38;5;124m\"\u001b[39m\u001b[38;5;124myour_email\u001b[39m\u001b[38;5;124m\"\u001b[39m,\n\u001b[1;32m      2\u001b[0m                 \u001b[38;5;124m'\u001b[39m\u001b[38;5;124mBcc\u001b[39m\u001b[38;5;124m'\u001b[39m:\u001b[38;5;124m\"\u001b[39m\u001b[38;5;124moptional_emnail\u001b[39m\u001b[38;5;124m\"\u001b[39m,\n\u001b[1;32m      3\u001b[0m                 \u001b[38;5;124m'\u001b[39m\u001b[38;5;124mSubject\u001b[39m\u001b[38;5;124m'\u001b[39m:\u001b[38;5;124m\"\u001b[39m\u001b[38;5;124myour_subject\u001b[39m\u001b[38;5;124m\"\u001b[39m}\n\u001b[1;32m      5\u001b[0m \u001b[38;5;66;03m#data read\u001b[39;00m\n\u001b[0;32m----> 6\u001b[0m data \u001b[38;5;241m=\u001b[39m \u001b[43mpd\u001b[49m\u001b[38;5;241m.\u001b[39mread_excel(\u001b[38;5;124m\"\u001b[39m\u001b[38;5;124mnotas.xlsx\u001b[39m\u001b[38;5;124m\"\u001b[39m)\n\u001b[1;32m      7\u001b[0m NROWS, NCOLS \u001b[38;5;241m=\u001b[39m data\u001b[38;5;241m.\u001b[39mshape\n\u001b[1;32m      8\u001b[0m headers \u001b[38;5;241m=\u001b[39m data\u001b[38;5;241m.\u001b[39mcolumns\n",
      "\u001b[0;31mNameError\u001b[0m: name 'pd' is not defined"
     ]
    }
   ],
   "source": [
    "EMAIL_CONFIG = {'From':\"your_email\",\n",
    "                'Bcc':\"optional_emnail\",\n",
    "                'Subject':\"your_subject\"}\n",
    "\n",
    "#data read\n",
    "data = pd.read_excel(\"notas.xlsx\")\n",
    "NROWS, NCOLS = data.shape\n",
    "headers = data.columns\n",
    "print(headers[1])\n",
    "\n",
    "#smtp server, you have to create a file .txt with your user and password\n",
    "s = smtplib.SMTP(host = 'smtp.gmail.com', port = 587)\n",
    "s.starttls()\n",
    "CREDENTIALS_USER, CREDENTIALS_PASS = read_auth_tokens('credentials.txt')\n",
    "s.login(CREDENTIALS_USER, CREDENTIALS_PASS)\n",
    "\n",
    "#loop over each row\n",
    "for index, row in data.iterrows():\n",
    "    print(f\"Sending email to: {row[2]} {row[3]}\")\n",
    "    msg = MIMEMultipart()\n",
    "    set_email_header(msg, EMAIL_CONFIG, email_to = row[4])\n",
    "    msg.attach(MIMEText(getEmailContent(row,headers), 'html'))\n",
    "    print(getEmailContent(row,headers))\n",
    "    s.send_message(msg)\n",
    "    del msg    \n",
    "s.quit()"
   ]
  }
 ],
 "metadata": {
  "kernelspec": {
   "display_name": "Python 3 (ipykernel)",
   "language": "python",
   "name": "python3"
  },
  "language_info": {
   "codemirror_mode": {
    "name": "ipython",
    "version": 3
   },
   "file_extension": ".py",
   "mimetype": "text/x-python",
   "name": "python",
   "nbconvert_exporter": "python",
   "pygments_lexer": "ipython3",
   "version": "3.10.9"
  }
 },
 "nbformat": 4,
 "nbformat_minor": 5
}
