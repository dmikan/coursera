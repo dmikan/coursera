{
 "cells": [
  {
   "cell_type": "code",
   "execution_count": 67,
   "id": "0adb3a08-635b-4b54-8164-d7d17d7cc1e1",
   "metadata": {},
   "outputs": [],
   "source": [
    "import pandas as pd\n",
    "import re\n",
    "\n",
    "#!cat datasets/lista_ggm.csv\n",
    "df = pd.read_csv('datasets/lista_ggm.csv')\n",
    "df = df.set_index(['Grupo', 'Serial No.'])\n",
    "df[\"Correo\"] = df[\"Correo\"].apply(lambda x: \" \".join([word+\",\" for word in x.split()]))\n",
    "concatenated = ' '.join(df['Correo'])"
   ]
  },
  {
   "cell_type": "code",
   "execution_count": 66,
   "id": "4b4e9bea-e4b8-4cae-b54f-119564cd9cef",
   "metadata": {},
   "outputs": [
    {
     "data": {
      "text/html": [
       "<div>\n",
       "<style scoped>\n",
       "    .dataframe tbody tr th:only-of-type {\n",
       "        vertical-align: middle;\n",
       "    }\n",
       "\n",
       "    .dataframe tbody tr th {\n",
       "        vertical-align: top;\n",
       "    }\n",
       "\n",
       "    .dataframe thead th {\n",
       "        text-align: right;\n",
       "    }\n",
       "</style>\n",
       "<table border=\"1\" class=\"dataframe\">\n",
       "  <thead>\n",
       "    <tr style=\"text-align: right;\">\n",
       "      <th></th>\n",
       "      <th>TEMAS</th>\n",
       "    </tr>\n",
       "  </thead>\n",
       "  <tbody>\n",
       "    <tr>\n",
       "      <th>0</th>\n",
       "      <td>TEMA 1: Bienvenida y retos de los sistemas educativos latinoamericanos</td>\n",
       "    </tr>\n",
       "    <tr>\n",
       "      <th>1</th>\n",
       "      <td>TEMA 2: Estructura y contexto normativo del sistema educativo colombiano y necesidad de articulación de la educación socioemocional</td>\n",
       "    </tr>\n",
       "    <tr>\n",
       "      <th>2</th>\n",
       "      <td>TEMA 3: Panel de Expertos internacionales</td>\n",
       "    </tr>\n",
       "    <tr>\n",
       "      <th>3</th>\n",
       "      <td>TEMA 4: Educación Inicial</td>\n",
       "    </tr>\n",
       "    <tr>\n",
       "      <th>4</th>\n",
       "      <td>TEMA 5: Educación Básica</td>\n",
       "    </tr>\n",
       "    <tr>\n",
       "      <th>5</th>\n",
       "      <td>TEMA 6: Educación Media</td>\n",
       "    </tr>\n",
       "    <tr>\n",
       "      <th>6</th>\n",
       "      <td>TEMA 7: Retroalimentación de resultados segunda entrega</td>\n",
       "    </tr>\n",
       "    <tr>\n",
       "      <th>7</th>\n",
       "      <td>TEMA 8: Educación Posmedia</td>\n",
       "    </tr>\n",
       "    <tr>\n",
       "      <th>8</th>\n",
       "      <td>TEMA 9: Cierre del Curso</td>\n",
       "    </tr>\n",
       "  </tbody>\n",
       "</table>\n",
       "</div>"
      ],
      "text/plain": [
       "                                                                                                                                 TEMAS\n",
       "0                                                               TEMA 1: Bienvenida y retos de los sistemas educativos latinoamericanos\n",
       "1  TEMA 2: Estructura y contexto normativo del sistema educativo colombiano y necesidad de articulación de la educación socioemocional\n",
       "2                                                                                           TEMA 3: Panel de Expertos internacionales \n",
       "3                                                                                                            TEMA 4: Educación Inicial\n",
       "4                                                                                                             TEMA 5: Educación Básica\n",
       "5                                                                                                              TEMA 6: Educación Media\n",
       "6                                                                              TEMA 7: Retroalimentación de resultados segunda entrega\n",
       "7                                                                                                           TEMA 8: Educación Posmedia\n",
       "8                                                                                                            TEMA 9: Cierre del Curso "
      ]
     },
     "execution_count": 66,
     "metadata": {},
     "output_type": "execute_result"
    }
   ],
   "source": [
    "dfs=pd.read_html(\"http://www.catedras-bogota.unal.edu.co/index.php/catedra-gabriel-garcia-marquez\")\n",
    "cadena_lista = []\n",
    "for elemento in dfs:\n",
    "    cadena_lista.append(str(elemento))    \n",
    "\n",
    "patron = r'TEMA\\s\\d+:\\s[\\w\\s]+'\n",
    "cadenas_encontradas = re.findall(patron, cadena_lista[0])\n",
    "temas = set(cadenas_encontradas)\n",
    "pd.set_option('display.max_colwidth', None)\n",
    "datos = pd.DataFrame(sorted(list(temas)))\n",
    "datos.columns = ['TEMAS']\n",
    "datos"
   ]
  }
 ],
 "metadata": {
  "kernelspec": {
   "display_name": "Python 3 (ipykernel)",
   "language": "python",
   "name": "python3"
  },
  "language_info": {
   "codemirror_mode": {
    "name": "ipython",
    "version": 3
   },
   "file_extension": ".py",
   "mimetype": "text/x-python",
   "name": "python",
   "nbconvert_exporter": "python",
   "pygments_lexer": "ipython3",
   "version": "3.10.9"
  }
 },
 "nbformat": 4,
 "nbformat_minor": 5
}
